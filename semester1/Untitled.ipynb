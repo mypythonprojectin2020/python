{
 "cells": [
  {
   "cell_type": "code",
   "execution_count": 1,
   "metadata": {},
   "outputs": [
    {
     "name": "stdout",
     "output_type": "stream",
     "text": [
      "get the number:1\n",
      "get the number:2\n",
      "get the number:3\n",
      "['1', '2', '3']\n"
     ]
    }
   ],
   "source": [
    "my_list=[]\n",
    "x=input(\"get the number:\")\n",
    "my_list.append(x)\n",
    "x=input(\"get the number:\")\n",
    "my_list.append(x)\n",
    "x=input(\"get the number:\")\n",
    "my_list.append(x)\n",
    "print(my_list)\n"
   ]
  },
  {
   "cell_type": "code",
   "execution_count": 14,
   "metadata": {},
   "outputs": [
    {
     "name": "stdout",
     "output_type": "stream",
     "text": [
      "get the number:7\n",
      "get the number:9\n",
      "get the number:0\n",
      "get the number:8\n",
      "get the number:9\n",
      "['7', '9', '0', '8', '9']\n"
     ]
    }
   ],
   "source": [
    "my_list=[]\n",
    "for i in range(5):\n",
    "    v=input(\"get the number:\")\n",
    "    my_list.append(v)\n",
    "print(my_list)"
   ]
  },
  {
   "cell_type": "code",
   "execution_count": 15,
   "metadata": {},
   "outputs": [
    {
     "name": "stdout",
     "output_type": "stream",
     "text": [
      "0\n",
      "1\n",
      "2\n",
      "3\n",
      "4\n"
     ]
    }
   ],
   "source": [
    "for i in range(5):\n",
    "    print(i)"
   ]
  },
  {
   "cell_type": "code",
   "execution_count": 24,
   "metadata": {},
   "outputs": [
    {
     "name": "stdout",
     "output_type": "stream",
     "text": [
      "get the number:5\n",
      "get the number:2\n",
      "get the number:7\n",
      "get the number:9\n",
      "get the number:1\n",
      "get the number:5\n",
      "1\n"
     ]
    }
   ],
   "source": [
    "least=input(\"get the number:\")\n",
    "my_list=[]\n",
    "my_list.append(least)\n",
    "\n",
    "\n",
    "for i in range(3):\n",
    "    v=input(\"get the number:\")\n",
    "    my_list.append(v)\n",
    "    if v<least :\n",
    "        least=v\n",
    "print(least)"
   ]
  },
  {
   "cell_type": "code",
   "execution_count": 85,
   "metadata": {},
   "outputs": [
    {
     "name": "stdout",
     "output_type": "stream",
     "text": [
      "[5, 10, 15, 20]\n"
     ]
    }
   ],
   "source": [
    "times_list=[]\n",
    "x=5\n",
    "for i in range(1,x):\n",
    "    times_list.append(i*x)\n",
    "print(times_list)"
   ]
  },
  {
   "cell_type": "code",
   "execution_count": 76,
   "metadata": {},
   "outputs": [
    {
     "name": "stdout",
     "output_type": "stream",
     "text": [
      "hello Daphne\n",
      "hello Sandy\n",
      "hello Sally\n"
     ]
    }
   ],
   "source": [
    "name=[\"Daphne\",\"Sandy\",\"Sally\"]\n",
    "for i in range(len(name_list)):\n",
    "    print(\"hello\",name[i])"
   ]
  },
  {
   "cell_type": "code",
   "execution_count": 83,
   "metadata": {},
   "outputs": [
    {
     "name": "stdout",
     "output_type": "stream",
     "text": [
      "hello Daphne\n",
      "happy halloween, Sandy\n",
      "happy birthday, Sally\n"
     ]
    }
   ],
   "source": [
    "name=[\"Daphne\",\"Sandy\",\"Sally\"]\n",
    "for i in range(len(name)):\n",
    "    if name[i]==\"Daphne\":\n",
    "        print(\"hello\",name[i])\n",
    "        \n",
    "    elif name[i]==\"Sandy\"\n",
    "        print(\"happy halloween,\",name[i])\n",
    "        \n",
    "    elif name[i]==\"Sally\"\n",
    "        print(\"happy birthday,\",name[i])\n",
    "        "
   ]
  },
  {
   "cell_type": "code",
   "execution_count": null,
   "metadata": {},
   "outputs": [],
   "source": []
  },
  {
   "cell_type": "code",
   "execution_count": null,
   "metadata": {},
   "outputs": [],
   "source": []
  }
 ],
 "metadata": {
  "kernelspec": {
   "display_name": "Python 3",
   "language": "python",
   "name": "python3"
  },
  "language_info": {
   "codemirror_mode": {
    "name": "ipython",
    "version": 3
   },
   "file_extension": ".py",
   "mimetype": "text/x-python",
   "name": "python",
   "nbconvert_exporter": "python",
   "pygments_lexer": "ipython3",
   "version": "3.8.3"
  }
 },
 "nbformat": 4,
 "nbformat_minor": 4
}
